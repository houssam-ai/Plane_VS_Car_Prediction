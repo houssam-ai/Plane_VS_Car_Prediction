{
 "cells": [
  {
   "cell_type": "code",
   "execution_count": null,
   "id": "c112b509",
   "metadata": {},
   "outputs": [],
   "source": [
    "import numpy as np\n",
    "from keras.models import load_model\n",
    "from keras.preprocessing.image import img_to_array\n",
    "from PIL import Image\n",
    "from io import BytesIO\n",
    "import ipywidgets as widgets\n",
    "from IPython.display import display\n",
    "\n",
    "# Load the pre-trained model\n",
    "model = load_model('./model_saved.h5')\n",
    "\n",
    "# Create a file upload widget\n",
    "upload = widgets.FileUpload(accept='image/*', multiple=False)\n",
    "display(upload)\n",
    "\n",
    "# Function to process and predict the uploaded image\n",
    "def predict_uploaded_image(change):\n",
    "    # Check if a file was uploaded\n",
    "    if not upload.value:\n",
    "        print(\"Please upload an image.\")\n",
    "        return\n",
    "\n",
    "    # Access the uploaded file\n",
    "    uploaded_file = list(upload.value.values())[0] if isinstance(upload.value, dict) else upload.value[0]\n",
    "    content = uploaded_file['content'] if isinstance(uploaded_file, dict) else uploaded_file[1]\n",
    "    \n",
    "    # Load and display the image\n",
    "    image = Image.open(BytesIO(content)).resize((224, 224))\n",
    "    display(image)  # Show the image in Jupyter Notebook\n",
    "\n",
    "    # Preprocess the image for prediction\n",
    "    img_array = img_to_array(image) / 255.0  # Normalize the image\n",
    "    img_array = img_array.reshape(1, 224, 224, 3)\n",
    "\n",
    "    # Make prediction\n",
    "    prediction = model.predict(img_array)\n",
    "    label = \"Car\" if prediction[0][0] < 0.5 else \"Plane\"\n",
    "    \n",
    "    # Display the prediction and confidence\n",
    "    print(f\"Predicted Class: {label}\")\n",
    "    print(f\"Confidence Score: {prediction[0][0]:.4f}\")\n",
    "\n",
    "# Attach the prediction function to the upload widget\n",
    "upload.observe(predict_uploaded_image, names='value')\n"
   ]
  },
  {
   "cell_type": "code",
   "execution_count": null,
   "id": "ad2466e2",
   "metadata": {},
   "outputs": [],
   "source": []
  },
  {
   "cell_type": "code",
   "execution_count": null,
   "id": "ff005fc1",
   "metadata": {},
   "outputs": [],
   "source": []
  },
  {
   "cell_type": "code",
   "execution_count": null,
   "id": "c6d04136",
   "metadata": {},
   "outputs": [],
   "source": []
  }
 ],
 "metadata": {
  "kernelspec": {
   "display_name": "Python 3 (ipykernel)",
   "language": "python",
   "name": "python3"
  },
  "language_info": {
   "codemirror_mode": {
    "name": "ipython",
    "version": 3
   },
   "file_extension": ".py",
   "mimetype": "text/x-python",
   "name": "python",
   "nbconvert_exporter": "python",
   "pygments_lexer": "ipython3",
   "version": "3.11.4"
  }
 },
 "nbformat": 4,
 "nbformat_minor": 5
}
